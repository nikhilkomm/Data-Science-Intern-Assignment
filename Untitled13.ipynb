{
  "nbformat": 4,
  "nbformat_minor": 0,
  "metadata": {
    "colab": {
      "provenance": []
    },
    "kernelspec": {
      "name": "python3",
      "display_name": "Python 3"
    },
    "language_info": {
      "name": "python"
    }
  },
  "cells": [
    {
      "cell_type": "code",
      "execution_count": 17,
      "metadata": {
        "id": "Y_eCNynMOc81"
      },
      "outputs": [],
      "source": [
        "import pandas as pd\n",
        "import numpy as np\n",
        "import matplotlib.pyplot as plt\n",
        "import seaborn as sns\n",
        "from keras.models import Sequential\n",
        "from keras.layers import Dense, Dropout\n",
        "from mlxtend.plotting import plot_confusion_matrix\n",
        "from sklearn.metrics import accuracy_score, confusion_matrix, classification_report, roc_curve, roc_auc_score"
      ]
    },
    {
      "cell_type": "markdown",
      "source": [],
      "metadata": {
        "id": "qYman88PE3Vn"
      }
    },
    {
      "cell_type": "code",
      "source": [
        "url =\"https://drive.google.com/file/d/1zsffPXT78ifASbeO-i9ROOtbfBRbkC1v/view?usp=sharing\""
      ],
      "metadata": {
        "id": "BJ8tYT30PuAT"
      },
      "execution_count": 18,
      "outputs": []
    },
    {
      "cell_type": "code",
      "source": [
        "file_id = url.split('/')[-2]"
      ],
      "metadata": {
        "id": "iLQ0GKIWPuIw"
      },
      "execution_count": 19,
      "outputs": []
    },
    {
      "cell_type": "code",
      "source": [
        "read_url='https://drive.google.com/uc?id=' + file_id"
      ],
      "metadata": {
        "id": "1dyefgZHP2Xa"
      },
      "execution_count": 20,
      "outputs": []
    },
    {
      "cell_type": "code",
      "source": [
        "df = pd.read_csv(read_url)\n"
      ],
      "metadata": {
        "id": "oiAFcrTXP29S"
      },
      "execution_count": 21,
      "outputs": []
    },
    {
      "cell_type": "code",
      "source": [
        "df.head()"
      ],
      "metadata": {
        "colab": {
          "base_uri": "https://localhost:8080/",
          "height": 206
        },
        "id": "S1e938SHP6UE",
        "outputId": "ac48c810-b2b6-46af-d2ad-d652e7d7358e"
      },
      "execution_count": 22,
      "outputs": [
        {
          "output_type": "execute_result",
          "data": {
            "text/plain": [
              "   variance  skewness  curtosis  entropy  class\n",
              "0   3.62160    8.6661   -2.8073 -0.44699      0\n",
              "1   4.54590    8.1674   -2.4586 -1.46210      0\n",
              "2   3.86600   -2.6383    1.9242  0.10645      0\n",
              "3   3.45660    9.5228   -4.0112 -3.59440      0\n",
              "4   0.32924   -4.4552    4.5718 -0.98880      0"
            ],
            "text/html": [
              "\n",
              "\n",
              "  <div id=\"df-42d3f7fc-6945-4ac0-951c-6f6e1bbdaa66\">\n",
              "    <div class=\"colab-df-container\">\n",
              "      <div>\n",
              "<style scoped>\n",
              "    .dataframe tbody tr th:only-of-type {\n",
              "        vertical-align: middle;\n",
              "    }\n",
              "\n",
              "    .dataframe tbody tr th {\n",
              "        vertical-align: top;\n",
              "    }\n",
              "\n",
              "    .dataframe thead th {\n",
              "        text-align: right;\n",
              "    }\n",
              "</style>\n",
              "<table border=\"1\" class=\"dataframe\">\n",
              "  <thead>\n",
              "    <tr style=\"text-align: right;\">\n",
              "      <th></th>\n",
              "      <th>variance</th>\n",
              "      <th>skewness</th>\n",
              "      <th>curtosis</th>\n",
              "      <th>entropy</th>\n",
              "      <th>class</th>\n",
              "    </tr>\n",
              "  </thead>\n",
              "  <tbody>\n",
              "    <tr>\n",
              "      <th>0</th>\n",
              "      <td>3.62160</td>\n",
              "      <td>8.6661</td>\n",
              "      <td>-2.8073</td>\n",
              "      <td>-0.44699</td>\n",
              "      <td>0</td>\n",
              "    </tr>\n",
              "    <tr>\n",
              "      <th>1</th>\n",
              "      <td>4.54590</td>\n",
              "      <td>8.1674</td>\n",
              "      <td>-2.4586</td>\n",
              "      <td>-1.46210</td>\n",
              "      <td>0</td>\n",
              "    </tr>\n",
              "    <tr>\n",
              "      <th>2</th>\n",
              "      <td>3.86600</td>\n",
              "      <td>-2.6383</td>\n",
              "      <td>1.9242</td>\n",
              "      <td>0.10645</td>\n",
              "      <td>0</td>\n",
              "    </tr>\n",
              "    <tr>\n",
              "      <th>3</th>\n",
              "      <td>3.45660</td>\n",
              "      <td>9.5228</td>\n",
              "      <td>-4.0112</td>\n",
              "      <td>-3.59440</td>\n",
              "      <td>0</td>\n",
              "    </tr>\n",
              "    <tr>\n",
              "      <th>4</th>\n",
              "      <td>0.32924</td>\n",
              "      <td>-4.4552</td>\n",
              "      <td>4.5718</td>\n",
              "      <td>-0.98880</td>\n",
              "      <td>0</td>\n",
              "    </tr>\n",
              "  </tbody>\n",
              "</table>\n",
              "</div>\n",
              "      <button class=\"colab-df-convert\" onclick=\"convertToInteractive('df-42d3f7fc-6945-4ac0-951c-6f6e1bbdaa66')\"\n",
              "              title=\"Convert this dataframe to an interactive table.\"\n",
              "              style=\"display:none;\">\n",
              "\n",
              "  <svg xmlns=\"http://www.w3.org/2000/svg\" height=\"24px\"viewBox=\"0 0 24 24\"\n",
              "       width=\"24px\">\n",
              "    <path d=\"M0 0h24v24H0V0z\" fill=\"none\"/>\n",
              "    <path d=\"M18.56 5.44l.94 2.06.94-2.06 2.06-.94-2.06-.94-.94-2.06-.94 2.06-2.06.94zm-11 1L8.5 8.5l.94-2.06 2.06-.94-2.06-.94L8.5 2.5l-.94 2.06-2.06.94zm10 10l.94 2.06.94-2.06 2.06-.94-2.06-.94-.94-2.06-.94 2.06-2.06.94z\"/><path d=\"M17.41 7.96l-1.37-1.37c-.4-.4-.92-.59-1.43-.59-.52 0-1.04.2-1.43.59L10.3 9.45l-7.72 7.72c-.78.78-.78 2.05 0 2.83L4 21.41c.39.39.9.59 1.41.59.51 0 1.02-.2 1.41-.59l7.78-7.78 2.81-2.81c.8-.78.8-2.07 0-2.86zM5.41 20L4 18.59l7.72-7.72 1.47 1.35L5.41 20z\"/>\n",
              "  </svg>\n",
              "      </button>\n",
              "\n",
              "\n",
              "\n",
              "    <div id=\"df-e16d3df2-7be9-4df4-9531-b60a318a9158\">\n",
              "      <button class=\"colab-df-quickchart\" onclick=\"quickchart('df-e16d3df2-7be9-4df4-9531-b60a318a9158')\"\n",
              "              title=\"Suggest charts.\"\n",
              "              style=\"display:none;\">\n",
              "\n",
              "<svg xmlns=\"http://www.w3.org/2000/svg\" height=\"24px\"viewBox=\"0 0 24 24\"\n",
              "     width=\"24px\">\n",
              "    <g>\n",
              "        <path d=\"M19 3H5c-1.1 0-2 .9-2 2v14c0 1.1.9 2 2 2h14c1.1 0 2-.9 2-2V5c0-1.1-.9-2-2-2zM9 17H7v-7h2v7zm4 0h-2V7h2v10zm4 0h-2v-4h2v4z\"/>\n",
              "    </g>\n",
              "</svg>\n",
              "      </button>\n",
              "    </div>\n",
              "\n",
              "<style>\n",
              "  .colab-df-quickchart {\n",
              "    background-color: #E8F0FE;\n",
              "    border: none;\n",
              "    border-radius: 50%;\n",
              "    cursor: pointer;\n",
              "    display: none;\n",
              "    fill: #1967D2;\n",
              "    height: 32px;\n",
              "    padding: 0 0 0 0;\n",
              "    width: 32px;\n",
              "  }\n",
              "\n",
              "  .colab-df-quickchart:hover {\n",
              "    background-color: #E2EBFA;\n",
              "    box-shadow: 0px 1px 2px rgba(60, 64, 67, 0.3), 0px 1px 3px 1px rgba(60, 64, 67, 0.15);\n",
              "    fill: #174EA6;\n",
              "  }\n",
              "\n",
              "  [theme=dark] .colab-df-quickchart {\n",
              "    background-color: #3B4455;\n",
              "    fill: #D2E3FC;\n",
              "  }\n",
              "\n",
              "  [theme=dark] .colab-df-quickchart:hover {\n",
              "    background-color: #434B5C;\n",
              "    box-shadow: 0px 1px 3px 1px rgba(0, 0, 0, 0.15);\n",
              "    filter: drop-shadow(0px 1px 2px rgba(0, 0, 0, 0.3));\n",
              "    fill: #FFFFFF;\n",
              "  }\n",
              "</style>\n",
              "\n",
              "    <script>\n",
              "      async function quickchart(key) {\n",
              "        const containerElement = document.querySelector('#' + key);\n",
              "        const charts = await google.colab.kernel.invokeFunction(\n",
              "            'suggestCharts', [key], {});\n",
              "      }\n",
              "    </script>\n",
              "\n",
              "      <script>\n",
              "\n",
              "function displayQuickchartButton(domScope) {\n",
              "  let quickchartButtonEl =\n",
              "    domScope.querySelector('#df-e16d3df2-7be9-4df4-9531-b60a318a9158 button.colab-df-quickchart');\n",
              "  quickchartButtonEl.style.display =\n",
              "    google.colab.kernel.accessAllowed ? 'block' : 'none';\n",
              "}\n",
              "\n",
              "        displayQuickchartButton(document);\n",
              "      </script>\n",
              "      <style>\n",
              "    .colab-df-container {\n",
              "      display:flex;\n",
              "      flex-wrap:wrap;\n",
              "      gap: 12px;\n",
              "    }\n",
              "\n",
              "    .colab-df-convert {\n",
              "      background-color: #E8F0FE;\n",
              "      border: none;\n",
              "      border-radius: 50%;\n",
              "      cursor: pointer;\n",
              "      display: none;\n",
              "      fill: #1967D2;\n",
              "      height: 32px;\n",
              "      padding: 0 0 0 0;\n",
              "      width: 32px;\n",
              "    }\n",
              "\n",
              "    .colab-df-convert:hover {\n",
              "      background-color: #E2EBFA;\n",
              "      box-shadow: 0px 1px 2px rgba(60, 64, 67, 0.3), 0px 1px 3px 1px rgba(60, 64, 67, 0.15);\n",
              "      fill: #174EA6;\n",
              "    }\n",
              "\n",
              "    [theme=dark] .colab-df-convert {\n",
              "      background-color: #3B4455;\n",
              "      fill: #D2E3FC;\n",
              "    }\n",
              "\n",
              "    [theme=dark] .colab-df-convert:hover {\n",
              "      background-color: #434B5C;\n",
              "      box-shadow: 0px 1px 3px 1px rgba(0, 0, 0, 0.15);\n",
              "      filter: drop-shadow(0px 1px 2px rgba(0, 0, 0, 0.3));\n",
              "      fill: #FFFFFF;\n",
              "    }\n",
              "  </style>\n",
              "\n",
              "      <script>\n",
              "        const buttonEl =\n",
              "          document.querySelector('#df-42d3f7fc-6945-4ac0-951c-6f6e1bbdaa66 button.colab-df-convert');\n",
              "        buttonEl.style.display =\n",
              "          google.colab.kernel.accessAllowed ? 'block' : 'none';\n",
              "\n",
              "        async function convertToInteractive(key) {\n",
              "          const element = document.querySelector('#df-42d3f7fc-6945-4ac0-951c-6f6e1bbdaa66');\n",
              "          const dataTable =\n",
              "            await google.colab.kernel.invokeFunction('convertToInteractive',\n",
              "                                                     [key], {});\n",
              "          if (!dataTable) return;\n",
              "\n",
              "          const docLinkHtml = 'Like what you see? Visit the ' +\n",
              "            '<a target=\"_blank\" href=https://colab.research.google.com/notebooks/data_table.ipynb>data table notebook</a>'\n",
              "            + ' to learn more about interactive tables.';\n",
              "          element.innerHTML = '';\n",
              "          dataTable['output_type'] = 'display_data';\n",
              "          await google.colab.output.renderOutput(dataTable, element);\n",
              "          const docLink = document.createElement('div');\n",
              "          docLink.innerHTML = docLinkHtml;\n",
              "          element.appendChild(docLink);\n",
              "        }\n",
              "      </script>\n",
              "    </div>\n",
              "  </div>\n"
            ]
          },
          "metadata": {},
          "execution_count": 22
        }
      ]
    },
    {
      "cell_type": "code",
      "source": [
        "df.info()"
      ],
      "metadata": {
        "colab": {
          "base_uri": "https://localhost:8080/"
        },
        "id": "waa1QLk1QCNe",
        "outputId": "3f6fb4e2-927a-4699-e8ec-7394f44c8352"
      },
      "execution_count": 23,
      "outputs": [
        {
          "output_type": "stream",
          "name": "stdout",
          "text": [
            "<class 'pandas.core.frame.DataFrame'>\n",
            "RangeIndex: 1372 entries, 0 to 1371\n",
            "Data columns (total 5 columns):\n",
            " #   Column    Non-Null Count  Dtype  \n",
            "---  ------    --------------  -----  \n",
            " 0   variance  1372 non-null   float64\n",
            " 1   skewness  1372 non-null   float64\n",
            " 2   curtosis  1372 non-null   float64\n",
            " 3   entropy   1372 non-null   float64\n",
            " 4   class     1372 non-null   int64  \n",
            "dtypes: float64(4), int64(1)\n",
            "memory usage: 53.7 KB\n"
          ]
        }
      ]
    },
    {
      "cell_type": "code",
      "source": [
        "df.isnull().sum()"
      ],
      "metadata": {
        "colab": {
          "base_uri": "https://localhost:8080/"
        },
        "id": "2HLvP6_nQTK5",
        "outputId": "d60dbc97-d1c8-4ecc-bb65-c07c04cc50c9"
      },
      "execution_count": 24,
      "outputs": [
        {
          "output_type": "execute_result",
          "data": {
            "text/plain": [
              "variance    0\n",
              "skewness    0\n",
              "curtosis    0\n",
              "entropy     0\n",
              "class       0\n",
              "dtype: int64"
            ]
          },
          "metadata": {},
          "execution_count": 24
        }
      ]
    },
    {
      "cell_type": "code",
      "source": [
        "df.describe()"
      ],
      "metadata": {
        "colab": {
          "base_uri": "https://localhost:8080/",
          "height": 300
        },
        "id": "coPwk9T9Rfoz",
        "outputId": "19251e20-a25f-498b-8517-283a0a59a657"
      },
      "execution_count": 25,
      "outputs": [
        {
          "output_type": "execute_result",
          "data": {
            "text/plain": [
              "          variance     skewness     curtosis      entropy        class\n",
              "count  1372.000000  1372.000000  1372.000000  1372.000000  1372.000000\n",
              "mean      0.433735     1.922353     1.397627    -1.191657     0.444606\n",
              "std       2.842763     5.869047     4.310030     2.101013     0.497103\n",
              "min      -7.042100   -13.773100    -5.286100    -8.548200     0.000000\n",
              "25%      -1.773000    -1.708200    -1.574975    -2.413450     0.000000\n",
              "50%       0.496180     2.319650     0.616630    -0.586650     0.000000\n",
              "75%       2.821475     6.814625     3.179250     0.394810     1.000000\n",
              "max       6.824800    12.951600    17.927400     2.449500     1.000000"
            ],
            "text/html": [
              "\n",
              "\n",
              "  <div id=\"df-b937ebec-b6ec-43ac-9741-61de57d42b3c\">\n",
              "    <div class=\"colab-df-container\">\n",
              "      <div>\n",
              "<style scoped>\n",
              "    .dataframe tbody tr th:only-of-type {\n",
              "        vertical-align: middle;\n",
              "    }\n",
              "\n",
              "    .dataframe tbody tr th {\n",
              "        vertical-align: top;\n",
              "    }\n",
              "\n",
              "    .dataframe thead th {\n",
              "        text-align: right;\n",
              "    }\n",
              "</style>\n",
              "<table border=\"1\" class=\"dataframe\">\n",
              "  <thead>\n",
              "    <tr style=\"text-align: right;\">\n",
              "      <th></th>\n",
              "      <th>variance</th>\n",
              "      <th>skewness</th>\n",
              "      <th>curtosis</th>\n",
              "      <th>entropy</th>\n",
              "      <th>class</th>\n",
              "    </tr>\n",
              "  </thead>\n",
              "  <tbody>\n",
              "    <tr>\n",
              "      <th>count</th>\n",
              "      <td>1372.000000</td>\n",
              "      <td>1372.000000</td>\n",
              "      <td>1372.000000</td>\n",
              "      <td>1372.000000</td>\n",
              "      <td>1372.000000</td>\n",
              "    </tr>\n",
              "    <tr>\n",
              "      <th>mean</th>\n",
              "      <td>0.433735</td>\n",
              "      <td>1.922353</td>\n",
              "      <td>1.397627</td>\n",
              "      <td>-1.191657</td>\n",
              "      <td>0.444606</td>\n",
              "    </tr>\n",
              "    <tr>\n",
              "      <th>std</th>\n",
              "      <td>2.842763</td>\n",
              "      <td>5.869047</td>\n",
              "      <td>4.310030</td>\n",
              "      <td>2.101013</td>\n",
              "      <td>0.497103</td>\n",
              "    </tr>\n",
              "    <tr>\n",
              "      <th>min</th>\n",
              "      <td>-7.042100</td>\n",
              "      <td>-13.773100</td>\n",
              "      <td>-5.286100</td>\n",
              "      <td>-8.548200</td>\n",
              "      <td>0.000000</td>\n",
              "    </tr>\n",
              "    <tr>\n",
              "      <th>25%</th>\n",
              "      <td>-1.773000</td>\n",
              "      <td>-1.708200</td>\n",
              "      <td>-1.574975</td>\n",
              "      <td>-2.413450</td>\n",
              "      <td>0.000000</td>\n",
              "    </tr>\n",
              "    <tr>\n",
              "      <th>50%</th>\n",
              "      <td>0.496180</td>\n",
              "      <td>2.319650</td>\n",
              "      <td>0.616630</td>\n",
              "      <td>-0.586650</td>\n",
              "      <td>0.000000</td>\n",
              "    </tr>\n",
              "    <tr>\n",
              "      <th>75%</th>\n",
              "      <td>2.821475</td>\n",
              "      <td>6.814625</td>\n",
              "      <td>3.179250</td>\n",
              "      <td>0.394810</td>\n",
              "      <td>1.000000</td>\n",
              "    </tr>\n",
              "    <tr>\n",
              "      <th>max</th>\n",
              "      <td>6.824800</td>\n",
              "      <td>12.951600</td>\n",
              "      <td>17.927400</td>\n",
              "      <td>2.449500</td>\n",
              "      <td>1.000000</td>\n",
              "    </tr>\n",
              "  </tbody>\n",
              "</table>\n",
              "</div>\n",
              "      <button class=\"colab-df-convert\" onclick=\"convertToInteractive('df-b937ebec-b6ec-43ac-9741-61de57d42b3c')\"\n",
              "              title=\"Convert this dataframe to an interactive table.\"\n",
              "              style=\"display:none;\">\n",
              "\n",
              "  <svg xmlns=\"http://www.w3.org/2000/svg\" height=\"24px\"viewBox=\"0 0 24 24\"\n",
              "       width=\"24px\">\n",
              "    <path d=\"M0 0h24v24H0V0z\" fill=\"none\"/>\n",
              "    <path d=\"M18.56 5.44l.94 2.06.94-2.06 2.06-.94-2.06-.94-.94-2.06-.94 2.06-2.06.94zm-11 1L8.5 8.5l.94-2.06 2.06-.94-2.06-.94L8.5 2.5l-.94 2.06-2.06.94zm10 10l.94 2.06.94-2.06 2.06-.94-2.06-.94-.94-2.06-.94 2.06-2.06.94z\"/><path d=\"M17.41 7.96l-1.37-1.37c-.4-.4-.92-.59-1.43-.59-.52 0-1.04.2-1.43.59L10.3 9.45l-7.72 7.72c-.78.78-.78 2.05 0 2.83L4 21.41c.39.39.9.59 1.41.59.51 0 1.02-.2 1.41-.59l7.78-7.78 2.81-2.81c.8-.78.8-2.07 0-2.86zM5.41 20L4 18.59l7.72-7.72 1.47 1.35L5.41 20z\"/>\n",
              "  </svg>\n",
              "      </button>\n",
              "\n",
              "\n",
              "\n",
              "    <div id=\"df-cd5bc212-58df-4ef1-a700-efdb6a9969ce\">\n",
              "      <button class=\"colab-df-quickchart\" onclick=\"quickchart('df-cd5bc212-58df-4ef1-a700-efdb6a9969ce')\"\n",
              "              title=\"Suggest charts.\"\n",
              "              style=\"display:none;\">\n",
              "\n",
              "<svg xmlns=\"http://www.w3.org/2000/svg\" height=\"24px\"viewBox=\"0 0 24 24\"\n",
              "     width=\"24px\">\n",
              "    <g>\n",
              "        <path d=\"M19 3H5c-1.1 0-2 .9-2 2v14c0 1.1.9 2 2 2h14c1.1 0 2-.9 2-2V5c0-1.1-.9-2-2-2zM9 17H7v-7h2v7zm4 0h-2V7h2v10zm4 0h-2v-4h2v4z\"/>\n",
              "    </g>\n",
              "</svg>\n",
              "      </button>\n",
              "    </div>\n",
              "\n",
              "<style>\n",
              "  .colab-df-quickchart {\n",
              "    background-color: #E8F0FE;\n",
              "    border: none;\n",
              "    border-radius: 50%;\n",
              "    cursor: pointer;\n",
              "    display: none;\n",
              "    fill: #1967D2;\n",
              "    height: 32px;\n",
              "    padding: 0 0 0 0;\n",
              "    width: 32px;\n",
              "  }\n",
              "\n",
              "  .colab-df-quickchart:hover {\n",
              "    background-color: #E2EBFA;\n",
              "    box-shadow: 0px 1px 2px rgba(60, 64, 67, 0.3), 0px 1px 3px 1px rgba(60, 64, 67, 0.15);\n",
              "    fill: #174EA6;\n",
              "  }\n",
              "\n",
              "  [theme=dark] .colab-df-quickchart {\n",
              "    background-color: #3B4455;\n",
              "    fill: #D2E3FC;\n",
              "  }\n",
              "\n",
              "  [theme=dark] .colab-df-quickchart:hover {\n",
              "    background-color: #434B5C;\n",
              "    box-shadow: 0px 1px 3px 1px rgba(0, 0, 0, 0.15);\n",
              "    filter: drop-shadow(0px 1px 2px rgba(0, 0, 0, 0.3));\n",
              "    fill: #FFFFFF;\n",
              "  }\n",
              "</style>\n",
              "\n",
              "    <script>\n",
              "      async function quickchart(key) {\n",
              "        const containerElement = document.querySelector('#' + key);\n",
              "        const charts = await google.colab.kernel.invokeFunction(\n",
              "            'suggestCharts', [key], {});\n",
              "      }\n",
              "    </script>\n",
              "\n",
              "      <script>\n",
              "\n",
              "function displayQuickchartButton(domScope) {\n",
              "  let quickchartButtonEl =\n",
              "    domScope.querySelector('#df-cd5bc212-58df-4ef1-a700-efdb6a9969ce button.colab-df-quickchart');\n",
              "  quickchartButtonEl.style.display =\n",
              "    google.colab.kernel.accessAllowed ? 'block' : 'none';\n",
              "}\n",
              "\n",
              "        displayQuickchartButton(document);\n",
              "      </script>\n",
              "      <style>\n",
              "    .colab-df-container {\n",
              "      display:flex;\n",
              "      flex-wrap:wrap;\n",
              "      gap: 12px;\n",
              "    }\n",
              "\n",
              "    .colab-df-convert {\n",
              "      background-color: #E8F0FE;\n",
              "      border: none;\n",
              "      border-radius: 50%;\n",
              "      cursor: pointer;\n",
              "      display: none;\n",
              "      fill: #1967D2;\n",
              "      height: 32px;\n",
              "      padding: 0 0 0 0;\n",
              "      width: 32px;\n",
              "    }\n",
              "\n",
              "    .colab-df-convert:hover {\n",
              "      background-color: #E2EBFA;\n",
              "      box-shadow: 0px 1px 2px rgba(60, 64, 67, 0.3), 0px 1px 3px 1px rgba(60, 64, 67, 0.15);\n",
              "      fill: #174EA6;\n",
              "    }\n",
              "\n",
              "    [theme=dark] .colab-df-convert {\n",
              "      background-color: #3B4455;\n",
              "      fill: #D2E3FC;\n",
              "    }\n",
              "\n",
              "    [theme=dark] .colab-df-convert:hover {\n",
              "      background-color: #434B5C;\n",
              "      box-shadow: 0px 1px 3px 1px rgba(0, 0, 0, 0.15);\n",
              "      filter: drop-shadow(0px 1px 2px rgba(0, 0, 0, 0.3));\n",
              "      fill: #FFFFFF;\n",
              "    }\n",
              "  </style>\n",
              "\n",
              "      <script>\n",
              "        const buttonEl =\n",
              "          document.querySelector('#df-b937ebec-b6ec-43ac-9741-61de57d42b3c button.colab-df-convert');\n",
              "        buttonEl.style.display =\n",
              "          google.colab.kernel.accessAllowed ? 'block' : 'none';\n",
              "\n",
              "        async function convertToInteractive(key) {\n",
              "          const element = document.querySelector('#df-b937ebec-b6ec-43ac-9741-61de57d42b3c');\n",
              "          const dataTable =\n",
              "            await google.colab.kernel.invokeFunction('convertToInteractive',\n",
              "                                                     [key], {});\n",
              "          if (!dataTable) return;\n",
              "\n",
              "          const docLinkHtml = 'Like what you see? Visit the ' +\n",
              "            '<a target=\"_blank\" href=https://colab.research.google.com/notebooks/data_table.ipynb>data table notebook</a>'\n",
              "            + ' to learn more about interactive tables.';\n",
              "          element.innerHTML = '';\n",
              "          dataTable['output_type'] = 'display_data';\n",
              "          await google.colab.output.renderOutput(dataTable, element);\n",
              "          const docLink = document.createElement('div');\n",
              "          docLink.innerHTML = docLinkHtml;\n",
              "          element.appendChild(docLink);\n",
              "        }\n",
              "      </script>\n",
              "    </div>\n",
              "  </div>\n"
            ]
          },
          "metadata": {},
          "execution_count": 25
        }
      ]
    },
    {
      "cell_type": "code",
      "source": [
        "corr = df.corr()\n",
        "sns.heatmap(corr,annot=True,linewidth=0.5,fmt=\".2f\")"
      ],
      "metadata": {
        "colab": {
          "base_uri": "https://localhost:8080/",
          "height": 452
        },
        "id": "d3cvBLzwQY9K",
        "outputId": "1cbaa41e-82e4-40e8-c630-b3c39089652a"
      },
      "execution_count": 26,
      "outputs": [
        {
          "output_type": "execute_result",
          "data": {
            "text/plain": [
              "<Axes: >"
            ]
          },
          "metadata": {},
          "execution_count": 26
        },
        {
          "output_type": "display_data",
          "data": {
            "text/plain": [
              "<Figure size 640x480 with 2 Axes>"
            ],
            "image/png": "[encoded data removed]"
          },
          "metadata": {}
        }
      ]
    },
    {
      "cell_type": "code",
      "source": [
        "from sklearn.model_selection import train_test_split\n",
        "X = df.iloc[:, 0:4].values  ##  same as X = df.iloc[:, 0:3002].values\n",
        "y = df.iloc[:, -1].values"
      ],
      "metadata": {
        "id": "O5U-HaN2SFiN"
      },
      "execution_count": 27,
      "outputs": []
    },
    {
      "cell_type": "code",
      "source": [
        "X_train, X_test, y_train, y_test = train_test_split(X,y, test_size = 0.2, random_state = 42)"
      ],
      "metadata": {
        "id": "l9sLRAoASMso"
      },
      "execution_count": 28,
      "outputs": []
    },
    {
      "cell_type": "code",
      "source": [
        "X_train.shape"
      ],
      "metadata": {
        "colab": {
          "base_uri": "https://localhost:8080/"
        },
        "id": "0IXIHY_JSPmv",
        "outputId": "d16e22da-151a-4b01-c3a0-897c16de7273"
      },
      "execution_count": 29,
      "outputs": [
        {
          "output_type": "execute_result",
          "data": {
            "text/plain": [
              "(1097, 4)"
            ]
          },
          "metadata": {},
          "execution_count": 29
        }
      ]
    },
    {
      "cell_type": "code",
      "source": [
        "X_test.shape"
      ],
      "metadata": {
        "colab": {
          "base_uri": "https://localhost:8080/"
        },
        "id": "XhHc3dYtSe41",
        "outputId": "a79d97e2-f68e-4e88-b906-5ad588700414"
      },
      "execution_count": 30,
      "outputs": [
        {
          "output_type": "execute_result",
          "data": {
            "text/plain": [
              "(275, 4)"
            ]
          },
          "metadata": {},
          "execution_count": 30
        }
      ]
    },
    {
      "cell_type": "code",
      "source": [
        "model = Sequential()\n",
        "\n",
        "##set up the layers\n",
        "## input layer\n",
        "model.add(Dense(units= 16, kernel_initializer= 'uniform', activation = 'relu', input_dim = 4))\n",
        "## hidden layer\n",
        "model.add(Dense(units= 10, kernel_initializer= 'uniform', activation = 'relu'))\n",
        "model.add(Dense(units= 4, kernel_initializer= 'uniform', activation = 'relu'))\n",
        "##output layer\n",
        "model.add(Dense(units= 1, kernel_initializer= 'uniform', activation = 'softmax'))\n",
        "\n",
        "## compiling the ANN\n",
        "\n",
        "model.compile(optimizer = 'adam', loss ='binary_crossentropy', metrics = ['accuracy'])"
      ],
      "metadata": {
        "id": "M_UNb4lLSwTo"
      },
      "execution_count": 34,
      "outputs": []
    },
    {
      "cell_type": "code",
      "source": [
        "history = model.fit(X_train, y_train, batch_size = 25, epochs = 80, validation_split= 0.25)"
      ],
      "metadata": {
        "colab": {
          "base_uri": "https://localhost:8080/"
        },
        "id": "9cAxldL8TCoX",
        "outputId": "10f81b19-ab5a-42ae-eb7a-1083f451fdf9"
      },
      "execution_count": 35,
      "outputs": [
        {
          "output_type": "stream",
          "name": "stdout",
          "text": [
            "Epoch 1/80\n",
            "33/33 [==============================] - 2s 10ms/step - loss: 0.6921 - accuracy: 0.4270 - val_loss: 0.6920 - val_accuracy: 0.4800\n",
            "Epoch 2/80\n",
            "33/33 [==============================] - 0s 4ms/step - loss: 0.6845 - accuracy: 0.4270 - val_loss: 0.6775 - val_accuracy: 0.4800\n",
            "Epoch 3/80\n",
            "33/33 [==============================] - 0s 4ms/step - loss: 0.6351 - accuracy: 0.4270 - val_loss: 0.5948 - val_accuracy: 0.4800\n",
            "Epoch 4/80\n",
            "33/33 [==============================] - 0s 3ms/step - loss: 0.4953 - accuracy: 0.4270 - val_loss: 0.4372 - val_accuracy: 0.4800\n",
            "Epoch 5/80\n",
            "33/33 [==============================] - 0s 4ms/step - loss: 0.3546 - accuracy: 0.4270 - val_loss: 0.3263 - val_accuracy: 0.4800\n",
            "Epoch 6/80\n",
            "33/33 [==============================] - 0s 4ms/step - loss: 0.2657 - accuracy: 0.4270 - val_loss: 0.2440 - val_accuracy: 0.4800\n",
            "Epoch 7/80\n",
            "33/33 [==============================] - 0s 4ms/step - loss: 0.1910 - accuracy: 0.4270 - val_loss: 0.1689 - val_accuracy: 0.4800\n",
            "Epoch 8/80\n",
            "33/33 [==============================] - 0s 4ms/step - loss: 0.1308 - accuracy: 0.4270 - val_loss: 0.1108 - val_accuracy: 0.4800\n",
            "Epoch 9/80\n",
            "33/33 [==============================] - 0s 4ms/step - loss: 0.0878 - accuracy: 0.4270 - val_loss: 0.0723 - val_accuracy: 0.4800\n",
            "Epoch 10/80\n",
            "33/33 [==============================] - 0s 3ms/step - loss: 0.0594 - accuracy: 0.4270 - val_loss: 0.0483 - val_accuracy: 0.4800\n",
            "Epoch 11/80\n",
            "33/33 [==============================] - 0s 3ms/step - loss: 0.0412 - accuracy: 0.4270 - val_loss: 0.0335 - val_accuracy: 0.4800\n",
            "Epoch 12/80\n",
            "33/33 [==============================] - 0s 4ms/step - loss: 0.0298 - accuracy: 0.4270 - val_loss: 0.0249 - val_accuracy: 0.4800\n",
            "Epoch 13/80\n",
            "33/33 [==============================] - 0s 3ms/step - loss: 0.0225 - accuracy: 0.4270 - val_loss: 0.0191 - val_accuracy: 0.4800\n",
            "Epoch 14/80\n",
            "33/33 [==============================] - 0s 4ms/step - loss: 0.0177 - accuracy: 0.4270 - val_loss: 0.0151 - val_accuracy: 0.4800\n",
            "Epoch 15/80\n",
            "33/33 [==============================] - 0s 3ms/step - loss: 0.0142 - accuracy: 0.4270 - val_loss: 0.0124 - val_accuracy: 0.4800\n",
            "Epoch 16/80\n",
            "33/33 [==============================] - 0s 3ms/step - loss: 0.0118 - accuracy: 0.4270 - val_loss: 0.0103 - val_accuracy: 0.4800\n",
            "Epoch 17/80\n",
            "33/33 [==============================] - 0s 7ms/step - loss: 0.0100 - accuracy: 0.4270 - val_loss: 0.0089 - val_accuracy: 0.4800\n",
            "Epoch 18/80\n",
            "33/33 [==============================] - 0s 8ms/step - loss: 0.0087 - accuracy: 0.4270 - val_loss: 0.0075 - val_accuracy: 0.4800\n",
            "Epoch 19/80\n",
            "33/33 [==============================] - 0s 3ms/step - loss: 0.0077 - accuracy: 0.4270 - val_loss: 0.0068 - val_accuracy: 0.4800\n",
            "Epoch 20/80\n",
            "33/33 [==============================] - 0s 3ms/step - loss: 0.0069 - accuracy: 0.4270 - val_loss: 0.0058 - val_accuracy: 0.4800\n",
            "Epoch 21/80\n",
            "33/33 [==============================] - 0s 4ms/step - loss: 0.0061 - accuracy: 0.4270 - val_loss: 0.0052 - val_accuracy: 0.4800\n",
            "Epoch 22/80\n",
            "33/33 [==============================] - 0s 3ms/step - loss: 0.0053 - accuracy: 0.4270 - val_loss: 0.0050 - val_accuracy: 0.4800\n",
            "Epoch 23/80\n",
            "33/33 [==============================] - 0s 4ms/step - loss: 0.0052 - accuracy: 0.4270 - val_loss: 0.0042 - val_accuracy: 0.4800\n",
            "Epoch 24/80\n",
            "33/33 [==============================] - 0s 4ms/step - loss: 0.0046 - accuracy: 0.4270 - val_loss: 0.0038 - val_accuracy: 0.4800\n",
            "Epoch 25/80\n",
            "33/33 [==============================] - 0s 4ms/step - loss: 0.0042 - accuracy: 0.4270 - val_loss: 0.0036 - val_accuracy: 0.4800\n",
            "Epoch 26/80\n",
            "33/33 [==============================] - 0s 4ms/step - loss: 0.0039 - accuracy: 0.4270 - val_loss: 0.0037 - val_accuracy: 0.4800\n",
            "Epoch 27/80\n",
            "33/33 [==============================] - 0s 3ms/step - loss: 0.0035 - accuracy: 0.4270 - val_loss: 0.0029 - val_accuracy: 0.4800\n",
            "Epoch 28/80\n",
            "33/33 [==============================] - 0s 3ms/step - loss: 0.0031 - accuracy: 0.4270 - val_loss: 0.0029 - val_accuracy: 0.4800\n",
            "Epoch 29/80\n",
            "33/33 [==============================] - 0s 4ms/step - loss: 0.0030 - accuracy: 0.4270 - val_loss: 0.0028 - val_accuracy: 0.4800\n",
            "Epoch 30/80\n",
            "33/33 [==============================] - 0s 3ms/step - loss: 0.0029 - accuracy: 0.4270 - val_loss: 0.0027 - val_accuracy: 0.4800\n",
            "Epoch 31/80\n",
            "33/33 [==============================] - 0s 5ms/step - loss: 0.0027 - accuracy: 0.4270 - val_loss: 0.0025 - val_accuracy: 0.4800\n",
            "Epoch 32/80\n",
            "33/33 [==============================] - 0s 4ms/step - loss: 0.0024 - accuracy: 0.4270 - val_loss: 0.0020 - val_accuracy: 0.4800\n",
            "Epoch 33/80\n",
            "33/33 [==============================] - 0s 3ms/step - loss: 0.0024 - accuracy: 0.4270 - val_loss: 0.0019 - val_accuracy: 0.4800\n",
            "Epoch 34/80\n",
            "33/33 [==============================] - 0s 4ms/step - loss: 0.0023 - accuracy: 0.4270 - val_loss: 0.0018 - val_accuracy: 0.4800\n",
            "Epoch 35/80\n",
            "33/33 [==============================] - 0s 3ms/step - loss: 0.0020 - accuracy: 0.4270 - val_loss: 0.0016 - val_accuracy: 0.4800\n",
            "Epoch 36/80\n",
            "33/33 [==============================] - 0s 4ms/step - loss: 0.0020 - accuracy: 0.4270 - val_loss: 0.0015 - val_accuracy: 0.4800\n",
            "Epoch 37/80\n",
            "33/33 [==============================] - 0s 4ms/step - loss: 0.0017 - accuracy: 0.4270 - val_loss: 0.0019 - val_accuracy: 0.4800\n",
            "Epoch 38/80\n",
            "33/33 [==============================] - 0s 6ms/step - loss: 0.0018 - accuracy: 0.4270 - val_loss: 0.0013 - val_accuracy: 0.4800\n",
            "Epoch 39/80\n",
            "33/33 [==============================] - 0s 6ms/step - loss: 0.0017 - accuracy: 0.4270 - val_loss: 0.0013 - val_accuracy: 0.4800\n",
            "Epoch 40/80\n",
            "33/33 [==============================] - 0s 5ms/step - loss: 0.0015 - accuracy: 0.4270 - val_loss: 0.0013 - val_accuracy: 0.4800\n",
            "Epoch 41/80\n",
            "33/33 [==============================] - 0s 5ms/step - loss: 0.0015 - accuracy: 0.4270 - val_loss: 0.0011 - val_accuracy: 0.4800\n",
            "Epoch 42/80\n",
            "33/33 [==============================] - 0s 5ms/step - loss: 0.0013 - accuracy: 0.4270 - val_loss: 0.0013 - val_accuracy: 0.4800\n",
            "Epoch 43/80\n",
            "33/33 [==============================] - 0s 5ms/step - loss: 0.0013 - accuracy: 0.4270 - val_loss: 9.3257e-04 - val_accuracy: 0.4800\n",
            "Epoch 44/80\n",
            "33/33 [==============================] - 0s 4ms/step - loss: 0.0013 - accuracy: 0.4270 - val_loss: 8.9305e-04 - val_accuracy: 0.4800\n",
            "Epoch 45/80\n",
            "33/33 [==============================] - 0s 5ms/step - loss: 0.0012 - accuracy: 0.4270 - val_loss: 9.2731e-04 - val_accuracy: 0.4800\n",
            "Epoch 46/80\n",
            "33/33 [==============================] - 0s 6ms/step - loss: 0.0011 - accuracy: 0.4270 - val_loss: 9.4974e-04 - val_accuracy: 0.4800\n",
            "Epoch 47/80\n",
            "33/33 [==============================] - 0s 5ms/step - loss: 0.0011 - accuracy: 0.4270 - val_loss: 0.0010 - val_accuracy: 0.4800\n",
            "Epoch 48/80\n",
            "33/33 [==============================] - 0s 5ms/step - loss: 9.8849e-04 - accuracy: 0.4270 - val_loss: 7.2011e-04 - val_accuracy: 0.4800\n",
            "Epoch 49/80\n",
            "33/33 [==============================] - 0s 4ms/step - loss: 9.6139e-04 - accuracy: 0.4270 - val_loss: 7.4276e-04 - val_accuracy: 0.4800\n",
            "Epoch 50/80\n",
            "33/33 [==============================] - 0s 5ms/step - loss: 8.9655e-04 - accuracy: 0.4270 - val_loss: 7.5217e-04 - val_accuracy: 0.4800\n",
            "Epoch 51/80\n",
            "33/33 [==============================] - 0s 6ms/step - loss: 8.7591e-04 - accuracy: 0.4270 - val_loss: 6.3909e-04 - val_accuracy: 0.4800\n",
            "Epoch 52/80\n",
            "33/33 [==============================] - 0s 6ms/step - loss: 7.8405e-04 - accuracy: 0.4270 - val_loss: 7.0329e-04 - val_accuracy: 0.4800\n",
            "Epoch 53/80\n",
            "33/33 [==============================] - 0s 6ms/step - loss: 8.0448e-04 - accuracy: 0.4270 - val_loss: 6.3189e-04 - val_accuracy: 0.4800\n",
            "Epoch 54/80\n",
            "33/33 [==============================] - 0s 4ms/step - loss: 7.6983e-04 - accuracy: 0.4270 - val_loss: 5.5342e-04 - val_accuracy: 0.4800\n",
            "Epoch 55/80\n",
            "33/33 [==============================] - 0s 3ms/step - loss: 8.7145e-04 - accuracy: 0.4270 - val_loss: 5.2506e-04 - val_accuracy: 0.4800\n",
            "Epoch 56/80\n",
            "33/33 [==============================] - 0s 3ms/step - loss: 6.8161e-04 - accuracy: 0.4270 - val_loss: 4.9010e-04 - val_accuracy: 0.4800\n",
            "Epoch 57/80\n",
            "33/33 [==============================] - 0s 4ms/step - loss: 6.5294e-04 - accuracy: 0.4270 - val_loss: 4.5512e-04 - val_accuracy: 0.4800\n",
            "Epoch 58/80\n",
            "33/33 [==============================] - 0s 4ms/step - loss: 6.1656e-04 - accuracy: 0.4270 - val_loss: 4.9617e-04 - val_accuracy: 0.4800\n",
            "Epoch 59/80\n",
            "33/33 [==============================] - 0s 4ms/step - loss: 5.8290e-04 - accuracy: 0.4270 - val_loss: 4.4400e-04 - val_accuracy: 0.4800\n",
            "Epoch 60/80\n",
            "33/33 [==============================] - 0s 4ms/step - loss: 5.8093e-04 - accuracy: 0.4270 - val_loss: 4.5679e-04 - val_accuracy: 0.4800\n",
            "Epoch 61/80\n",
            "33/33 [==============================] - 0s 4ms/step - loss: 5.3520e-04 - accuracy: 0.4270 - val_loss: 4.0910e-04 - val_accuracy: 0.4800\n",
            "Epoch 62/80\n",
            "33/33 [==============================] - 0s 4ms/step - loss: 4.9899e-04 - accuracy: 0.4270 - val_loss: 4.0663e-04 - val_accuracy: 0.4800\n",
            "Epoch 63/80\n",
            "33/33 [==============================] - 0s 3ms/step - loss: 4.9070e-04 - accuracy: 0.4270 - val_loss: 3.8526e-04 - val_accuracy: 0.4800\n",
            "Epoch 64/80\n",
            "33/33 [==============================] - 0s 3ms/step - loss: 4.8873e-04 - accuracy: 0.4270 - val_loss: 3.5878e-04 - val_accuracy: 0.4800\n",
            "Epoch 65/80\n",
            "33/33 [==============================] - 0s 3ms/step - loss: 4.5896e-04 - accuracy: 0.4270 - val_loss: 3.3311e-04 - val_accuracy: 0.4800\n",
            "Epoch 66/80\n",
            "33/33 [==============================] - 0s 4ms/step - loss: 4.4418e-04 - accuracy: 0.4270 - val_loss: 3.7711e-04 - val_accuracy: 0.4800\n",
            "Epoch 67/80\n",
            "33/33 [==============================] - 0s 3ms/step - loss: 4.3515e-04 - accuracy: 0.4270 - val_loss: 3.1368e-04 - val_accuracy: 0.4800\n",
            "Epoch 68/80\n",
            "33/33 [==============================] - 0s 3ms/step - loss: 4.3055e-04 - accuracy: 0.4270 - val_loss: 3.8098e-04 - val_accuracy: 0.4800\n",
            "Epoch 69/80\n",
            "33/33 [==============================] - 0s 3ms/step - loss: 4.0677e-04 - accuracy: 0.4270 - val_loss: 2.9040e-04 - val_accuracy: 0.4800\n",
            "Epoch 70/80\n",
            "33/33 [==============================] - 0s 4ms/step - loss: 3.8890e-04 - accuracy: 0.4270 - val_loss: 3.0075e-04 - val_accuracy: 0.4800\n",
            "Epoch 71/80\n",
            "33/33 [==============================] - 0s 3ms/step - loss: 3.6152e-04 - accuracy: 0.4270 - val_loss: 2.7506e-04 - val_accuracy: 0.4800\n",
            "Epoch 72/80\n",
            "33/33 [==============================] - 0s 3ms/step - loss: 3.5455e-04 - accuracy: 0.4270 - val_loss: 2.8507e-04 - val_accuracy: 0.4800\n",
            "Epoch 73/80\n",
            "33/33 [==============================] - 0s 3ms/step - loss: 3.2880e-04 - accuracy: 0.4270 - val_loss: 2.5159e-04 - val_accuracy: 0.4800\n",
            "Epoch 74/80\n",
            "33/33 [==============================] - 0s 4ms/step - loss: 3.1853e-04 - accuracy: 0.4270 - val_loss: 2.5441e-04 - val_accuracy: 0.4800\n",
            "Epoch 75/80\n",
            "33/33 [==============================] - 0s 3ms/step - loss: 3.0629e-04 - accuracy: 0.4270 - val_loss: 2.5140e-04 - val_accuracy: 0.4800\n",
            "Epoch 76/80\n",
            "33/33 [==============================] - 0s 3ms/step - loss: 2.9949e-04 - accuracy: 0.4270 - val_loss: 2.3172e-04 - val_accuracy: 0.4800\n",
            "Epoch 77/80\n",
            "33/33 [==============================] - 0s 4ms/step - loss: 2.9583e-04 - accuracy: 0.4270 - val_loss: 2.1493e-04 - val_accuracy: 0.4800\n",
            "Epoch 78/80\n",
            "33/33 [==============================] - 0s 4ms/step - loss: 2.8462e-04 - accuracy: 0.4270 - val_loss: 1.9737e-04 - val_accuracy: 0.4800\n",
            "Epoch 79/80\n",
            "33/33 [==============================] - 0s 4ms/step - loss: 2.6801e-04 - accuracy: 0.4270 - val_loss: 2.2727e-04 - val_accuracy: 0.4800\n",
            "Epoch 80/80\n",
            "33/33 [==============================] - 0s 3ms/step - loss: 2.6250e-04 - accuracy: 0.4270 - val_loss: 2.1861e-04 - val_accuracy: 0.4800\n"
          ]
        }
      ]
    },
    {
      "cell_type": "code",
      "source": [
        "y_pred_ann = model.predict(X_test)\n",
        "y_pred_ann = np.where(y_pred_ann > 0.5, 1, 0)"
      ],
      "metadata": {
        "colab": {
          "base_uri": "https://localhost:8080/"
        },
        "id": "1C1GJcVvTdNx",
        "outputId": "f8914e6b-b433-45e3-e161-4e92d742cc4b"
      },
      "execution_count": 36,
      "outputs": [
        {
          "output_type": "stream",
          "name": "stdout",
          "text": [
            "9/9 [==============================] - 0s 2ms/step\n"
          ]
        }
      ]
    },
    {
      "cell_type": "code",
      "source": [
        "print(classification_report(y_test, y_pred_ann))"
      ],
      "metadata": {
        "colab": {
          "base_uri": "https://localhost:8080/"
        },
        "id": "BRbSPLJ4TVLS",
        "outputId": "6c7b5fc4-e066-4c74-ea92-b5437ea3fefa"
      },
      "execution_count": 37,
      "outputs": [
        {
          "output_type": "stream",
          "name": "stdout",
          "text": [
            "              precision    recall  f1-score   support\n",
            "\n",
            "           0       0.00      0.00      0.00       148\n",
            "           1       0.46      1.00      0.63       127\n",
            "\n",
            "    accuracy                           0.46       275\n",
            "   macro avg       0.23      0.50      0.32       275\n",
            "weighted avg       0.21      0.46      0.29       275\n",
            "\n"
          ]
        },
        {
          "output_type": "stream",
          "name": "stderr",
          "text": [
            "/usr/local/lib/python3.10/dist-packages/sklearn/metrics/_classification.py:1344: UndefinedMetricWarning: Precision and F-score are ill-defined and being set to 0.0 in labels with no predicted samples. Use `zero_division` parameter to control this behavior.\n",
            "  _warn_prf(average, modifier, msg_start, len(result))\n",
            "/usr/local/lib/python3.10/dist-packages/sklearn/metrics/_classification.py:1344: UndefinedMetricWarning: Precision and F-score are ill-defined and being set to 0.0 in labels with no predicted samples. Use `zero_division` parameter to control this behavior.\n",
            "  _warn_prf(average, modifier, msg_start, len(result))\n",
            "/usr/local/lib/python3.10/dist-packages/sklearn/metrics/_classification.py:1344: UndefinedMetricWarning: Precision and F-score are ill-defined and being set to 0.0 in labels with no predicted samples. Use `zero_division` parameter to control this behavior.\n",
            "  _warn_prf(average, modifier, msg_start, len(result))\n"
          ]
        }
      ]
    },
    {
      "cell_type": "code",
      "source": [
        "cm = confusion_matrix(y_test, y_pred_ann)\n",
        "cm"
      ],
      "metadata": {
        "colab": {
          "base_uri": "https://localhost:8080/"
        },
        "id": "JqSkz3wkTi3M",
        "outputId": "ce69f731-2be6-437e-9cf2-13ce86dc8bcb"
      },
      "execution_count": 38,
      "outputs": [
        {
          "output_type": "execute_result",
          "data": {
            "text/plain": [
              "array([[  0, 148],\n",
              "       [  0, 127]])"
            ]
          },
          "metadata": {},
          "execution_count": 38
        }
      ]
    },
    {
      "cell_type": "code",
      "source": [
        "fig, ax = plot_confusion_matrix(conf_mat=cm, figsize=(5, 5), cmap=plt.cm.Greens)\n",
        "plt.xlabel('Predictions', fontsize=10)\n",
        "plt.ylabel('Actuals', fontsize = 10)\n",
        "plt.title('Confusion Matrix', fontsize = 10)\n",
        "plt.show()"
      ],
      "metadata": {
        "colab": {
          "base_uri": "https://localhost:8080/",
          "height": 484
        },
        "id": "PNO0omlKTld8",
        "outputId": "e98be0a9-c475-429c-c9d1-adfe8f8b5919"
      },
      "execution_count": 39,
      "outputs": [
        {
          "output_type": "display_data",
          "data": {
            "text/plain": [
              "<Figure size 500x500 with 1 Axes>"
            ],
            "image/png": "[encoded data removed]"
          },
          "metadata": {}
        }
      ]
    },
    {
      "cell_type": "code",
      "source": [
        "plt.plot(history.history['loss'])   ## training loss\n",
        "plt.plot(history.history['val_loss'])  ## validation loss\n",
        "plt.title('Model Loss')\n",
        "plt.ylabel('Loss')\n",
        "plt.xlabel('Epoch')\n",
        "plt.legend(['Train', 'Validation'], loc='upper right')\n",
        "plt.show()\n",
        "auc = roc_auc_score(y_test, y_pred_ann)\n",
        "print('AUC: %f' %auc)"
      ],
      "metadata": {
        "colab": {
          "base_uri": "https://localhost:8080/",
          "height": 489
        },
        "id": "bg5SuOZBTlYV",
        "outputId": "50f3e0c8-8264-4231-8edc-eecc09b80201"
      },
      "execution_count": 40,
      "outputs": [
        {
          "output_type": "display_data",
          "data": {
            "text/plain": [
              "<Figure size 640x480 with 1 Axes>"
            ],
            "image/png": "[encoded data removed]"
          },
          "metadata": {}
        },
        {
          "output_type": "stream",
          "name": "stdout",
          "text": [
            "AUC: 0.500000\n"
          ]
        }
      ]
    },
    {
      "cell_type": "code",
      "source": [
        "history = model.fit(X_train, y_train, batch_size = 25, epochs = 50, validation_split= 0.25)"
      ],
      "metadata": {
        "colab": {
          "base_uri": "https://localhost:8080/"
        },
        "id": "IrocdHuATtk0",
        "outputId": "dd293c2f-48d4-4675-e324-ad1b5fdd8cc8"
      },
      "execution_count": 41,
      "outputs": [
        {
          "output_type": "stream",
          "name": "stdout",
          "text": [
            "Epoch 1/50\n",
            "33/33 [==============================] - 0s 12ms/step - loss: 2.6478e-04 - accuracy: 0.4270 - val_loss: 1.8818e-04 - val_accuracy: 0.4800\n",
            "Epoch 2/50\n",
            "33/33 [==============================] - 0s 7ms/step - loss: 2.4515e-04 - accuracy: 0.4270 - val_loss: 2.0032e-04 - val_accuracy: 0.4800\n",
            "Epoch 3/50\n",
            "33/33 [==============================] - 0s 8ms/step - loss: 2.3720e-04 - accuracy: 0.4270 - val_loss: 2.0412e-04 - val_accuracy: 0.4800\n",
            "Epoch 4/50\n",
            "33/33 [==============================] - 0s 9ms/step - loss: 2.2648e-04 - accuracy: 0.4270 - val_loss: 1.6532e-04 - val_accuracy: 0.4800\n",
            "Epoch 5/50\n",
            "33/33 [==============================] - 0s 7ms/step - loss: 2.2488e-04 - accuracy: 0.4270 - val_loss: 1.6058e-04 - val_accuracy: 0.4800\n",
            "Epoch 6/50\n",
            "33/33 [==============================] - 0s 5ms/step - loss: 2.1185e-04 - accuracy: 0.4270 - val_loss: 1.5787e-04 - val_accuracy: 0.4800\n",
            "Epoch 7/50\n",
            "33/33 [==============================] - 0s 5ms/step - loss: 2.1950e-04 - accuracy: 0.4270 - val_loss: 1.5700e-04 - val_accuracy: 0.4800\n",
            "Epoch 8/50\n",
            "33/33 [==============================] - 0s 4ms/step - loss: 2.0843e-04 - accuracy: 0.4270 - val_loss: 1.7488e-04 - val_accuracy: 0.4800\n",
            "Epoch 9/50\n",
            "33/33 [==============================] - 0s 3ms/step - loss: 1.9080e-04 - accuracy: 0.4270 - val_loss: 1.3353e-04 - val_accuracy: 0.4800\n",
            "Epoch 10/50\n",
            "33/33 [==============================] - 0s 3ms/step - loss: 1.9288e-04 - accuracy: 0.4270 - val_loss: 1.4168e-04 - val_accuracy: 0.4800\n",
            "Epoch 11/50\n",
            "33/33 [==============================] - 0s 3ms/step - loss: 1.8173e-04 - accuracy: 0.4270 - val_loss: 1.3318e-04 - val_accuracy: 0.4800\n",
            "Epoch 12/50\n",
            "33/33 [==============================] - 0s 4ms/step - loss: 1.7217e-04 - accuracy: 0.4270 - val_loss: 1.2544e-04 - val_accuracy: 0.4800\n",
            "Epoch 13/50\n",
            "33/33 [==============================] - 0s 3ms/step - loss: 1.8139e-04 - accuracy: 0.4270 - val_loss: 1.3262e-04 - val_accuracy: 0.4800\n",
            "Epoch 14/50\n",
            "33/33 [==============================] - 0s 3ms/step - loss: 1.6359e-04 - accuracy: 0.4270 - val_loss: 1.1998e-04 - val_accuracy: 0.4800\n",
            "Epoch 15/50\n",
            "33/33 [==============================] - 0s 4ms/step - loss: 1.5879e-04 - accuracy: 0.4270 - val_loss: 1.2350e-04 - val_accuracy: 0.4800\n",
            "Epoch 16/50\n",
            "33/33 [==============================] - 0s 3ms/step - loss: 1.5132e-04 - accuracy: 0.4270 - val_loss: 1.1885e-04 - val_accuracy: 0.4800\n",
            "Epoch 17/50\n",
            "33/33 [==============================] - 0s 4ms/step - loss: 1.5008e-04 - accuracy: 0.4270 - val_loss: 1.1153e-04 - val_accuracy: 0.4800\n",
            "Epoch 18/50\n",
            "33/33 [==============================] - 0s 3ms/step - loss: 1.4491e-04 - accuracy: 0.4270 - val_loss: 1.0851e-04 - val_accuracy: 0.4800\n",
            "Epoch 19/50\n",
            "33/33 [==============================] - 0s 3ms/step - loss: 1.4344e-04 - accuracy: 0.4270 - val_loss: 1.0438e-04 - val_accuracy: 0.4800\n",
            "Epoch 20/50\n",
            "33/33 [==============================] - 0s 3ms/step - loss: 1.4100e-04 - accuracy: 0.4270 - val_loss: 1.0360e-04 - val_accuracy: 0.4800\n",
            "Epoch 21/50\n",
            "33/33 [==============================] - 0s 3ms/step - loss: 1.3582e-04 - accuracy: 0.4270 - val_loss: 1.0500e-04 - val_accuracy: 0.4800\n",
            "Epoch 22/50\n",
            "33/33 [==============================] - 0s 3ms/step - loss: 1.2820e-04 - accuracy: 0.4270 - val_loss: 9.6219e-05 - val_accuracy: 0.4800\n",
            "Epoch 23/50\n",
            "33/33 [==============================] - 0s 3ms/step - loss: 1.2361e-04 - accuracy: 0.4270 - val_loss: 8.7685e-05 - val_accuracy: 0.4800\n",
            "Epoch 24/50\n",
            "33/33 [==============================] - 0s 3ms/step - loss: 1.2768e-04 - accuracy: 0.4270 - val_loss: 8.6523e-05 - val_accuracy: 0.4800\n",
            "Epoch 25/50\n",
            "33/33 [==============================] - 0s 4ms/step - loss: 1.2404e-04 - accuracy: 0.4270 - val_loss: 9.9225e-05 - val_accuracy: 0.4800\n",
            "Epoch 26/50\n",
            "33/33 [==============================] - 0s 3ms/step - loss: 1.1020e-04 - accuracy: 0.4270 - val_loss: 8.6516e-05 - val_accuracy: 0.4800\n",
            "Epoch 27/50\n",
            "33/33 [==============================] - 0s 3ms/step - loss: 1.0963e-04 - accuracy: 0.4270 - val_loss: 7.8782e-05 - val_accuracy: 0.4800\n",
            "Epoch 28/50\n",
            "33/33 [==============================] - 0s 3ms/step - loss: 1.0959e-04 - accuracy: 0.4270 - val_loss: 7.7815e-05 - val_accuracy: 0.4800\n",
            "Epoch 29/50\n",
            "33/33 [==============================] - 0s 3ms/step - loss: 1.0630e-04 - accuracy: 0.4270 - val_loss: 7.6220e-05 - val_accuracy: 0.4800\n",
            "Epoch 30/50\n",
            "33/33 [==============================] - 0s 3ms/step - loss: 1.0347e-04 - accuracy: 0.4270 - val_loss: 7.1504e-05 - val_accuracy: 0.4800\n",
            "Epoch 31/50\n",
            "33/33 [==============================] - 0s 3ms/step - loss: 1.0100e-04 - accuracy: 0.4270 - val_loss: 7.6774e-05 - val_accuracy: 0.4800\n",
            "Epoch 32/50\n",
            "33/33 [==============================] - 0s 3ms/step - loss: 1.0163e-04 - accuracy: 0.4270 - val_loss: 7.5895e-05 - val_accuracy: 0.4800\n",
            "Epoch 33/50\n",
            "33/33 [==============================] - 0s 3ms/step - loss: 9.2987e-05 - accuracy: 0.4270 - val_loss: 7.2591e-05 - val_accuracy: 0.4800\n",
            "Epoch 34/50\n",
            "33/33 [==============================] - 0s 4ms/step - loss: 9.0604e-05 - accuracy: 0.4270 - val_loss: 6.6686e-05 - val_accuracy: 0.4800\n",
            "Epoch 35/50\n",
            "33/33 [==============================] - 0s 3ms/step - loss: 9.3280e-05 - accuracy: 0.4270 - val_loss: 6.3042e-05 - val_accuracy: 0.4800\n",
            "Epoch 36/50\n",
            "33/33 [==============================] - 0s 3ms/step - loss: 8.8427e-05 - accuracy: 0.4270 - val_loss: 6.7598e-05 - val_accuracy: 0.4800\n",
            "Epoch 37/50\n",
            "33/33 [==============================] - 0s 3ms/step - loss: 8.5389e-05 - accuracy: 0.4270 - val_loss: 6.5797e-05 - val_accuracy: 0.4800\n",
            "Epoch 38/50\n",
            "33/33 [==============================] - 0s 3ms/step - loss: 8.2792e-05 - accuracy: 0.4270 - val_loss: 6.1637e-05 - val_accuracy: 0.4800\n",
            "Epoch 39/50\n",
            "33/33 [==============================] - 0s 4ms/step - loss: 8.2931e-05 - accuracy: 0.4270 - val_loss: 6.4757e-05 - val_accuracy: 0.4800\n",
            "Epoch 40/50\n",
            "33/33 [==============================] - 0s 4ms/step - loss: 7.7625e-05 - accuracy: 0.4270 - val_loss: 5.7123e-05 - val_accuracy: 0.4800\n",
            "Epoch 41/50\n",
            "33/33 [==============================] - 0s 4ms/step - loss: 7.6397e-05 - accuracy: 0.4270 - val_loss: 5.4792e-05 - val_accuracy: 0.4800\n",
            "Epoch 42/50\n",
            "33/33 [==============================] - 0s 5ms/step - loss: 7.5970e-05 - accuracy: 0.4270 - val_loss: 5.0026e-05 - val_accuracy: 0.4800\n",
            "Epoch 43/50\n",
            "33/33 [==============================] - 0s 5ms/step - loss: 7.4328e-05 - accuracy: 0.4270 - val_loss: 5.3265e-05 - val_accuracy: 0.4800\n",
            "Epoch 44/50\n",
            "33/33 [==============================] - 0s 4ms/step - loss: 7.2036e-05 - accuracy: 0.4270 - val_loss: 5.0550e-05 - val_accuracy: 0.4800\n",
            "Epoch 45/50\n",
            "33/33 [==============================] - 0s 5ms/step - loss: 6.9206e-05 - accuracy: 0.4270 - val_loss: 5.0757e-05 - val_accuracy: 0.4800\n",
            "Epoch 46/50\n",
            "33/33 [==============================] - 0s 4ms/step - loss: 6.8500e-05 - accuracy: 0.4270 - val_loss: 4.8821e-05 - val_accuracy: 0.4800\n",
            "Epoch 47/50\n",
            "33/33 [==============================] - 0s 4ms/step - loss: 6.6376e-05 - accuracy: 0.4270 - val_loss: 4.6599e-05 - val_accuracy: 0.4800\n",
            "Epoch 48/50\n",
            "33/33 [==============================] - 0s 7ms/step - loss: 6.4739e-05 - accuracy: 0.4270 - val_loss: 4.8263e-05 - val_accuracy: 0.4800\n",
            "Epoch 49/50\n",
            "33/33 [==============================] - 0s 5ms/step - loss: 6.2431e-05 - accuracy: 0.4270 - val_loss: 4.4251e-05 - val_accuracy: 0.4800\n",
            "Epoch 50/50\n",
            "33/33 [==============================] - 0s 4ms/step - loss: 6.2123e-05 - accuracy: 0.4270 - val_loss: 4.0154e-05 - val_accuracy: 0.4800\n"
          ]
        }
      ]
    },
    {
      "cell_type": "code",
      "source": [
        "y_pred_ann = model.predict(X_test)\n",
        "y_pred_ann = np.where(y_pred_ann > 0.5, 1, 0)"
      ],
      "metadata": {
        "colab": {
          "base_uri": "https://localhost:8080/"
        },
        "id": "oAtXl3MV_fOx",
        "outputId": "94659831-f286-49cf-f96a-728421b0dc2f"
      },
      "execution_count": 42,
      "outputs": [
        {
          "output_type": "stream",
          "name": "stdout",
          "text": [
            "9/9 [==============================] - 0s 3ms/step\n"
          ]
        }
      ]
    },
    {
      "cell_type": "code",
      "source": [
        "print(classification_report(y_test, y_pred_ann))"
      ],
      "metadata": {
        "colab": {
          "base_uri": "https://localhost:8080/"
        },
        "id": "XDFoo3iN_i7Q",
        "outputId": "02ab141d-f6b8-4de5-8085-0faf6d648bb5"
      },
      "execution_count": 43,
      "outputs": [
        {
          "output_type": "stream",
          "name": "stdout",
          "text": [
            "              precision    recall  f1-score   support\n",
            "\n",
            "           0       0.00      0.00      0.00       148\n",
            "           1       0.46      1.00      0.63       127\n",
            "\n",
            "    accuracy                           0.46       275\n",
            "   macro avg       0.23      0.50      0.32       275\n",
            "weighted avg       0.21      0.46      0.29       275\n",
            "\n"
          ]
        },
        {
          "output_type": "stream",
          "name": "stderr",
          "text": [
            "/usr/local/lib/python3.10/dist-packages/sklearn/metrics/_classification.py:1344: UndefinedMetricWarning: Precision and F-score are ill-defined and being set to 0.0 in labels with no predicted samples. Use `zero_division` parameter to control this behavior.\n",
            "  _warn_prf(average, modifier, msg_start, len(result))\n",
            "/usr/local/lib/python3.10/dist-packages/sklearn/metrics/_classification.py:1344: UndefinedMetricWarning: Precision and F-score are ill-defined and being set to 0.0 in labels with no predicted samples. Use `zero_division` parameter to control this behavior.\n",
            "  _warn_prf(average, modifier, msg_start, len(result))\n",
            "/usr/local/lib/python3.10/dist-packages/sklearn/metrics/_classification.py:1344: UndefinedMetricWarning: Precision and F-score are ill-defined and being set to 0.0 in labels with no predicted samples. Use `zero_division` parameter to control this behavior.\n",
            "  _warn_prf(average, modifier, msg_start, len(result))\n"
          ]
        }
      ]
    },
    {
      "cell_type": "code",
      "source": [
        "fig, ax = plot_confusion_matrix(conf_mat=cm, figsize=(5, 5), cmap=plt.cm.Greens)\n",
        "plt.xlabel('Predictions', fontsize=10)\n",
        "plt.ylabel('Actuals', fontsize = 10)\n",
        "plt.title('Confusion Matrix', fontsize = 10)\n",
        "plt.show()"
      ],
      "metadata": {
        "colab": {
          "base_uri": "https://localhost:8080/",
          "height": 484
        },
        "id": "vdMOXIfV_n-n",
        "outputId": "c89707a1-40ec-4eb3-d57a-6ce077bb61d3"
      },
      "execution_count": 44,
      "outputs": [
        {
          "output_type": "display_data",
          "data": {
            "text/plain": [
              "<Figure size 500x500 with 1 Axes>"
            ],
            "image/png": "[encoded data removed]"
          },
          "metadata": {}
        }
      ]
    },
    {
      "cell_type": "code",
      "source": [
        "plt.plot(history.history['loss'])   ## training loss\n",
        "plt.plot(history.history['val_loss'])  ## validation loss\n",
        "plt.title('Model Loss')\n",
        "plt.ylabel('Loss')\n",
        "plt.xlabel('Epoch')\n",
        "plt.legend(['Train', 'Validation'], loc='upper right')\n",
        "plt.show()\n",
        "auc = roc_auc_score(y_test, y_pred_ann)\n",
        "print('AUC: %f' %auc)"
      ],
      "metadata": {
        "colab": {
          "base_uri": "https://localhost:8080/",
          "height": 489
        },
        "id": "wT_nYM5F_qMG",
        "outputId": "a1943c36-fd5a-4d75-db0a-ae511fb25845"
      },
      "execution_count": 45,
      "outputs": [
        {
          "output_type": "display_data",
          "data": {
            "text/plain": [
              "<Figure size 640x480 with 1 Axes>"
            ],
            "image/png": "[encoded data removed]"
          },
          "metadata": {}
        },
        {
          "output_type": "stream",
          "name": "stdout",
          "text": [
            "AUC: 0.500000\n"
          ]
        }
      ]
    },
    {
      "cell_type": "code",
      "source": [
        "history = model.fit(X_train, y_train, batch_size = 25, epochs = 30, validation_split= 0.25)"
      ],
      "metadata": {
        "colab": {
          "base_uri": "https://localhost:8080/"
        },
        "id": "igc2ftHaBNDd",
        "outputId": "cff5acee-0a6d-4902-80f8-fb4a2647b81f"
      },
      "execution_count": 57,
      "outputs": [
        {
          "output_type": "stream",
          "name": "stdout",
          "text": [
            "Epoch 1/30\n",
            "33/33 [==============================] - 0s 5ms/step - loss: 6.4456e-07 - accuracy: 0.4270 - val_loss: 3.0858e-07 - val_accuracy: 0.4800\n",
            "Epoch 2/30\n",
            "33/33 [==============================] - 0s 3ms/step - loss: 5.9744e-07 - accuracy: 0.4270 - val_loss: 3.9365e-07 - val_accuracy: 0.4800\n",
            "Epoch 3/30\n",
            "33/33 [==============================] - 0s 3ms/step - loss: 6.1812e-07 - accuracy: 0.4270 - val_loss: 3.3620e-07 - val_accuracy: 0.4800\n",
            "Epoch 4/30\n",
            "33/33 [==============================] - 0s 3ms/step - loss: 5.9774e-07 - accuracy: 0.4270 - val_loss: 3.3114e-07 - val_accuracy: 0.4800\n",
            "Epoch 5/30\n",
            "33/33 [==============================] - 0s 4ms/step - loss: 5.7753e-07 - accuracy: 0.4270 - val_loss: 3.5275e-07 - val_accuracy: 0.4800\n",
            "Epoch 6/30\n",
            "33/33 [==============================] - 0s 3ms/step - loss: 5.7269e-07 - accuracy: 0.4270 - val_loss: 3.2539e-07 - val_accuracy: 0.4800\n",
            "Epoch 7/30\n",
            "33/33 [==============================] - 0s 3ms/step - loss: 5.5247e-07 - accuracy: 0.4270 - val_loss: 3.2056e-07 - val_accuracy: 0.4800\n",
            "Epoch 8/30\n",
            "33/33 [==============================] - 0s 4ms/step - loss: 5.4837e-07 - accuracy: 0.4270 - val_loss: 3.0982e-07 - val_accuracy: 0.4800\n",
            "Epoch 9/30\n",
            "33/33 [==============================] - 0s 3ms/step - loss: 5.4132e-07 - accuracy: 0.4270 - val_loss: 2.8590e-07 - val_accuracy: 0.4800\n",
            "Epoch 10/30\n",
            "33/33 [==============================] - 0s 3ms/step - loss: 5.2749e-07 - accuracy: 0.4270 - val_loss: 2.8874e-07 - val_accuracy: 0.4800\n",
            "Epoch 11/30\n",
            "33/33 [==============================] - 0s 3ms/step - loss: 5.0901e-07 - accuracy: 0.4270 - val_loss: 2.9769e-07 - val_accuracy: 0.4800\n",
            "Epoch 12/30\n",
            "33/33 [==============================] - 0s 3ms/step - loss: 5.0251e-07 - accuracy: 0.4270 - val_loss: 3.0486e-07 - val_accuracy: 0.4800\n",
            "Epoch 13/30\n",
            "33/33 [==============================] - 0s 3ms/step - loss: 5.0035e-07 - accuracy: 0.4270 - val_loss: 2.9168e-07 - val_accuracy: 0.4800\n",
            "Epoch 14/30\n",
            "33/33 [==============================] - 0s 4ms/step - loss: 4.7984e-07 - accuracy: 0.4270 - val_loss: 2.7177e-07 - val_accuracy: 0.4800\n",
            "Epoch 15/30\n",
            "33/33 [==============================] - 0s 3ms/step - loss: 4.7401e-07 - accuracy: 0.4270 - val_loss: 2.7615e-07 - val_accuracy: 0.4800\n",
            "Epoch 16/30\n",
            "33/33 [==============================] - 0s 3ms/step - loss: 4.5836e-07 - accuracy: 0.4270 - val_loss: 2.7593e-07 - val_accuracy: 0.4800\n",
            "Epoch 17/30\n",
            "33/33 [==============================] - 0s 4ms/step - loss: 4.6528e-07 - accuracy: 0.4270 - val_loss: 2.6316e-07 - val_accuracy: 0.4800\n",
            "Epoch 18/30\n",
            "33/33 [==============================] - 0s 3ms/step - loss: 4.4757e-07 - accuracy: 0.4270 - val_loss: 2.7313e-07 - val_accuracy: 0.4800\n",
            "Epoch 19/30\n",
            "33/33 [==============================] - 0s 3ms/step - loss: 4.3451e-07 - accuracy: 0.4270 - val_loss: 2.2731e-07 - val_accuracy: 0.4800\n",
            "Epoch 20/30\n",
            "33/33 [==============================] - 0s 3ms/step - loss: 4.3981e-07 - accuracy: 0.4270 - val_loss: 2.6191e-07 - val_accuracy: 0.4800\n",
            "Epoch 21/30\n",
            "33/33 [==============================] - 0s 3ms/step - loss: 4.2351e-07 - accuracy: 0.4270 - val_loss: 2.2033e-07 - val_accuracy: 0.4800\n",
            "Epoch 22/30\n",
            "33/33 [==============================] - 0s 3ms/step - loss: 4.1233e-07 - accuracy: 0.4270 - val_loss: 2.3788e-07 - val_accuracy: 0.4800\n",
            "Epoch 23/30\n",
            "33/33 [==============================] - 0s 3ms/step - loss: 4.0778e-07 - accuracy: 0.4270 - val_loss: 2.3670e-07 - val_accuracy: 0.4800\n",
            "Epoch 24/30\n",
            "33/33 [==============================] - 0s 3ms/step - loss: 3.9262e-07 - accuracy: 0.4270 - val_loss: 2.2969e-07 - val_accuracy: 0.4800\n",
            "Epoch 25/30\n",
            "33/33 [==============================] - 0s 3ms/step - loss: 3.9264e-07 - accuracy: 0.4270 - val_loss: 2.1641e-07 - val_accuracy: 0.4800\n",
            "Epoch 26/30\n",
            "33/33 [==============================] - 0s 4ms/step - loss: 3.8502e-07 - accuracy: 0.4270 - val_loss: 2.2402e-07 - val_accuracy: 0.4800\n",
            "Epoch 27/30\n",
            "33/33 [==============================] - 0s 4ms/step - loss: 3.7094e-07 - accuracy: 0.4270 - val_loss: 2.0683e-07 - val_accuracy: 0.4800\n",
            "Epoch 28/30\n",
            "33/33 [==============================] - 0s 3ms/step - loss: 3.6296e-07 - accuracy: 0.4270 - val_loss: 2.0354e-07 - val_accuracy: 0.4800\n",
            "Epoch 29/30\n",
            "33/33 [==============================] - 0s 3ms/step - loss: 3.6114e-07 - accuracy: 0.4270 - val_loss: 2.0807e-07 - val_accuracy: 0.4800\n",
            "Epoch 30/30\n",
            "33/33 [==============================] - 0s 3ms/step - loss: 3.5970e-07 - accuracy: 0.4270 - val_loss: 2.0054e-07 - val_accuracy: 0.4800\n"
          ]
        }
      ]
    },
    {
      "cell_type": "code",
      "source": [
        "y_pred_ann = model.predict(X_test)\n",
        "y_pred_ann = np.where(y_pred_ann > 0.5, 1, 0)"
      ],
      "metadata": {
        "colab": {
          "base_uri": "https://localhost:8080/"
        },
        "id": "R3wO6Y6iBSoW",
        "outputId": "c118cdb5-cb75-43b2-f65c-1b332a1ec3ce"
      },
      "execution_count": 58,
      "outputs": [
        {
          "output_type": "stream",
          "name": "stdout",
          "text": [
            "9/9 [==============================] - 0s 2ms/step\n"
          ]
        }
      ]
    },
    {
      "cell_type": "code",
      "source": [
        "fig, ax = plot_confusion_matrix(conf_mat=cm, figsize=(5, 5), cmap=plt.cm.Greens)\n",
        "plt.xlabel('Predictions', fontsize=10)\n",
        "plt.ylabel('Actuals', fontsize = 10)\n",
        "plt.title('Confusion Matrix', fontsize = 10)\n",
        "plt.show()\n"
      ],
      "metadata": {
        "colab": {
          "base_uri": "https://localhost:8080/",
          "height": 484
        },
        "id": "KEJBMmrYBVnR",
        "outputId": "5b2a9dcd-ccc3-4008-fe18-2b5267d25211"
      },
      "execution_count": 59,
      "outputs": [
        {
          "output_type": "display_data",
          "data": {
            "text/plain": [
              "<Figure size 500x500 with 1 Axes>"
            ],
            "image/png": "[encoded data removed]"
          },
          "metadata": {}
        }
      ]
    },
    {
      "cell_type": "code",
      "source": [
        "print(classification_report(y_test, y_pred_ann))"
      ],
      "metadata": {
        "colab": {
          "base_uri": "https://localhost:8080/"
        },
        "id": "KqluuHhuBdge",
        "outputId": "e63c97ee-a1a1-4c16-e774-7b62375cb334"
      },
      "execution_count": 60,
      "outputs": [
        {
          "output_type": "stream",
          "name": "stdout",
          "text": [
            "              precision    recall  f1-score   support\n",
            "\n",
            "           0       0.00      0.00      0.00       148\n",
            "           1       0.46      1.00      0.63       127\n",
            "\n",
            "    accuracy                           0.46       275\n",
            "   macro avg       0.23      0.50      0.32       275\n",
            "weighted avg       0.21      0.46      0.29       275\n",
            "\n"
          ]
        },
        {
          "output_type": "stream",
          "name": "stderr",
          "text": [
            "/usr/local/lib/python3.10/dist-packages/sklearn/metrics/_classification.py:1344: UndefinedMetricWarning: Precision and F-score are ill-defined and being set to 0.0 in labels with no predicted samples. Use `zero_division` parameter to control this behavior.\n",
            "  _warn_prf(average, modifier, msg_start, len(result))\n",
            "/usr/local/lib/python3.10/dist-packages/sklearn/metrics/_classification.py:1344: UndefinedMetricWarning: Precision and F-score are ill-defined and being set to 0.0 in labels with no predicted samples. Use `zero_division` parameter to control this behavior.\n",
            "  _warn_prf(average, modifier, msg_start, len(result))\n",
            "/usr/local/lib/python3.10/dist-packages/sklearn/metrics/_classification.py:1344: UndefinedMetricWarning: Precision and F-score are ill-defined and being set to 0.0 in labels with no predicted samples. Use `zero_division` parameter to control this behavior.\n",
            "  _warn_prf(average, modifier, msg_start, len(result))\n"
          ]
        }
      ]
    },
    {
      "cell_type": "code",
      "source": [
        "plt.plot(history.history['loss'])   ## training loss\n",
        "plt.plot(history.history['val_loss'])  ## validation loss\n",
        "plt.title('Model Loss')\n",
        "plt.ylabel('Loss')\n",
        "plt.xlabel('Epoch')\n",
        "plt.legend(['Train', 'Validation'], loc='upper right')\n",
        "plt.show()\n",
        "auc = roc_auc_score(y_test, y_pred_ann)\n",
        "print('AUC: %f' %auc)"
      ],
      "metadata": {
        "colab": {
          "base_uri": "https://localhost:8080/",
          "height": 489
        },
        "id": "zC3J_bfhBluv",
        "outputId": "158564b5-c326-478d-c6df-a06f917b23fe"
      },
      "execution_count": 61,
      "outputs": [
        {
          "output_type": "display_data",
          "data": {
            "text/plain": [
              "<Figure size 640x480 with 1 Axes>"
            ],
            "image/png": "[encoded data removed]"
          },
          "metadata": {}
        },
        {
          "output_type": "stream",
          "name": "stdout",
          "text": [
            "AUC: 0.500000\n"
          ]
        }
      ]
    }
  ]
}